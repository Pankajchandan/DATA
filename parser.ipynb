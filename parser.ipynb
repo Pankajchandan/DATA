{
 "cells": [
  {
   "cell_type": "code",
   "execution_count": 88,
   "metadata": {},
   "outputs": [],
   "source": [
    "import sys\n",
    "import re\n",
    "\n",
    "with open('ann.txt', 'r') as my_file:\n",
    "    content=my_file.read()\n",
    "    #print(content)\n",
    "    objNum = re.findall('\\\"([0-9]*)\\\":{\\\"shape_attributes\\\"', content)\n",
    "    objNum = [ int(x) for x in objNum ]\n",
    "    #print(objNum)\n",
    "    fileName = re.findall('\\\"filename\\\":\\\"(.*)\\\",\\\"base64_img_data\\\":', content)\n",
    "    #print(fileName)\n",
    "    objName = re.findall('\\\"region_attributes\\\":{\\\"name\":\\\"([a-z]*[A-z]*_*)\\\"}', content)\n",
    "    #print(objName)\n",
    "    dimension = re.findall('{\\\"name\\\":\\\"[a-zA-z]*\\\",\\\"x\\\":([0-9]*),\\\"y\\\":([0-9]*),\\\"width\\\":([0-9]*),\\\"height\\\":([0-9]*)}', content)\n",
    "    #dimension = [ int(x) for x in dimension ]\n",
    "    #print(dimension)\n",
    "    file=open('res.txt', 'w')\n",
    "    \n",
    "    objNumber=[]\n",
    "    for x in range(0, len(objNum)-1): \n",
    "        if(objNum[x]>=objNum[x+1]):\n",
    "            objNumber.append(objNum[x])\n",
    "    objNumber.append(objNum[x+1])\n",
    "    \n",
    "    objIndex=0\n",
    "    \n",
    "    for i in range(0, len(objNumber)):\n",
    "        file.write(fileName[i])\n",
    "        file.write(\"\\n\")\n",
    "        \n",
    "        for i in range(0,objNumber[i]+1):\n",
    "            file.write(objName[objIndex])\n",
    "            file.write(\" \")\n",
    "            \n",
    "            for j in range(0,4):\n",
    "                if(j==2):\n",
    "                    file.write(str(int(dimension[objIndex][j])+int(dimension[objIndex][0])))\n",
    "                elif(j==3):\n",
    "                    file.write(str(int(dimension[objIndex][j])+int(dimension[objIndex][1])))\n",
    "                else:\n",
    "                    file.write(dimension[objIndex][j])\n",
    "                if(j<3):\n",
    "                    file.write(\" \")\n",
    "            \n",
    "            objIndex=objIndex+1\n",
    "            file.write(\"\\n\")\n",
    "        file.write(\"\\n\")\n",
    "            \n",
    "    file.close()\n",
    "        \n",
    "    print(\"conversion completed....data stored in res.txt\")"
   ]
  },
  {
   "cell_type": "code",
   "execution_count": null,
   "metadata": {
    "collapsed": true
   },
   "outputs": [],
   "source": []
  }
 ],
 "metadata": {
  "kernelspec": {
   "display_name": "Python 3",
   "language": "python",
   "name": "python3"
  },
  "language_info": {
   "codemirror_mode": {
    "name": "ipython",
    "version": 3
   },
   "file_extension": ".py",
   "mimetype": "text/x-python",
   "name": "python",
   "nbconvert_exporter": "python",
   "pygments_lexer": "ipython3",
   "version": "3.5.2"
  }
 },
 "nbformat": 4,
 "nbformat_minor": 2
}
